{
 "cells": [
  {
   "cell_type": "code",
   "execution_count": 8,
   "metadata": {},
   "outputs": [],
   "source": [
    "import numpy as np\n",
    "import warnings\n",
    "\n",
    "warnings.filterwarnings('ignore')\n",
    "N=10001\n",
    "frames=1000\n",
    "\n",
    "pert_N = 10001\n",
    "\n",
    "file = open(\"Treecode_perturber_out.txt\", \"r\")\n",
    "\n",
    "G = int(file.readline())\n",
    "time = []\n",
    "x = []\n",
    "y = []\n",
    "z = []\n",
    "vx = []\n",
    "vy = []\n",
    "vz = []\n",
    "\n",
    "step = 3+3*G\n",
    "i = 1\n",
    "j = 0\n",
    "\n",
    "while(True):\n",
    "    line = file.readline()\n",
    "\n",
    "    if line == \"\":\n",
    "        file.close()\n",
    "        break\n",
    "\n",
    "    i+=1\n",
    "\n",
    "    k = i-j*step\n",
    "    if(k==3): time.append(float(line))\n",
    "    elif (k>3+G and k <= 3+2*G):\n",
    "        line = [float(x) for x in line.split()]\n",
    "        x.append(line[0])\n",
    "        y.append(line[1])\n",
    "        z.append(line[2])\n",
    "    elif (k>3+2*G and k <= 3+3*G):\n",
    "        line = [float(x) for x in line.split()]\n",
    "        vx.append(line[0])\n",
    "        vy.append(line[1])\n",
    "        vz.append(line[2])\n",
    "\n",
    "    if i%step==0: j+=1\n",
    "\n",
    "time = np.array(time)\n",
    "x = np.array(x)#.reshape(len(time), G).T\n",
    "y = np.array(y)#.reshape(len(time), G).T\n",
    "z = np.array(z)#.reshape(len(time), G).T\n",
    "vx = np.array(vx)#.reshape(len(time), G).T\n",
    "vy = np.array(vy)#.reshape(len(time), G).T\n",
    "vz = np.array(vz)#.reshape(len(time), G).T\n",
    "\n"
   ]
  },
  {
   "cell_type": "code",
   "execution_count": 9,
   "metadata": {},
   "outputs": [
    {
     "name": "stdout",
     "output_type": "stream",
     "text": [
      "1000\n"
     ]
    },
    {
     "data": {
      "application/vnd.jupyter.widget-view+json": {
       "model_id": "0e250411875b4a879cb4b891946547b3",
       "version_major": 2,
       "version_minor": 0
      },
      "text/plain": [
       "  0%|          | 0/1000 [00:00<?, ?it/s]"
      ]
     },
     "metadata": {},
     "output_type": "display_data"
    }
   ],
   "source": [
    "import random\n",
    "import subprocess\n",
    "import numpy as np\n",
    "import matplotlib.pyplot as plt\n",
    "import matplotlib as mpl\n",
    "import matplotlib.animation as animation\n",
    "from matplotlib.animation import FFMpegWriter, PillowWriter\n",
    "from tqdm.notebook import tqdm\n",
    "import warnings\n",
    "\n",
    "warnings.filterwarnings('ignore')\n",
    "\n",
    "norm = mpl.colors.Normalize(vmin=0, vmax=N)\n",
    "cmap = mpl.colormaps.get_cmap(\"viridis\")\n",
    "\n",
    "scale = 30\n",
    "x_min = scale\n",
    "x_max = -scale\n",
    "y_min = scale\n",
    "y_max = -scale\n",
    "z_min = scale\n",
    "z_max = -scale\n",
    "i=0\n",
    "\n",
    "print(frames)\n",
    "for i in tqdm(range(frames)):       #remove tqdm if you want\n",
    "        \n",
    "    fig = plt.figure(figsize=(5,5))\n",
    "    ax = fig.add_subplot(111, projection='3d')\n",
    "    plt.axis([x_min, x_max, y_min, y_max, z_min, z_max])\n",
    "    for j in range(N):\n",
    "        if j%5==0:\n",
    "            ax.scatter(x[N*i + j], y[N*i + j], z[N*i + j], color=cmap((norm(j))), alpha=0.4)\n",
    "\n",
    "    ax.scatter(x[pert_N*i + j], y[pert_N*i + j], z[pert_N*i + j], color=\"red\", alpha=1, marker=\"D\")\n",
    "\n",
    "    fig.savefig(\"frames/image{:04}.jpg\".format(i+1))     #INSERIRE LA PROPRIA CARTELLA\n",
    "    plt.close(fig)"
   ]
  },
  {
   "cell_type": "code",
   "execution_count": 10,
   "metadata": {},
   "outputs": [
    {
     "data": {
      "text/plain": [
       "CompletedProcess(args='cd frames & ffmpeg -framerate 30 -i image%4d.jpg plummer_sphere_pert.mp4', returncode=0, stdout='', stderr=\"The system cannot find the path specified.\\nffmpeg version 2024-03-20-git-e04c638f5f-full_build-www.gyan.dev Copyright (c) 2000-2024 the FFmpeg developers\\n  built with gcc 13.2.0 (Rev5, Built by MSYS2 project)\\n  configuration: --enable-gpl --enable-version3 --enable-static --pkg-config=pkgconf --disable-w32threads --disable-autodetect --enable-fontconfig --enable-iconv --enable-gnutls --enable-libxml2 --enable-gmp --enable-bzlib --enable-lzma --enable-libsnappy --enable-zlib --enable-librist --enable-libsrt --enable-libssh --enable-libzmq --enable-avisynth --enable-libbluray --enable-libcaca --enable-sdl2 --enable-libaribb24 --enable-libaribcaption --enable-libdav1d --enable-libdavs2 --enable-libuavs3d --enable-libzvbi --enable-librav1e --enable-libsvtav1 --enable-libwebp --enable-libx264 --enable-libx265 --enable-libxavs2 --enable-libxvid --enable-libaom --enable-libjxl --enable-libopenjpeg --enable-libvpx --enable-mediafoundation --enable-libass --enable-frei0r --enable-libfreetype --enable-libfribidi --enable-libharfbuzz --enable-liblensfun --enable-libvidstab --enable-libvmaf --enable-libzimg --enable-amf --enable-cuda-llvm --enable-cuvid --enable-ffnvcodec --enable-nvdec --enable-nvenc --enable-dxva2 --enable-d3d11va --enable-libvpl --enable-libshaderc --enable-vulkan --enable-libplacebo --enable-opencl --enable-libcdio --enable-libgme --enable-libmodplug --enable-libopenmpt --enable-libopencore-amrwb --enable-libmp3lame --enable-libshine --enable-libtheora --enable-libtwolame --enable-libvo-amrwbenc --enable-libcodec2 --enable-libilbc --enable-libgsm --enable-libopencore-amrnb --enable-libopus --enable-libspeex --enable-libvorbis --enable-ladspa --enable-libbs2b --enable-libflite --enable-libmysofa --enable-librubberband --enable-libsoxr --enable-chromaprint\\n  libavutil      59.  3.100 / 59.  3.100\\n  libavcodec     61.  2.100 / 61.  2.100\\n  libavformat    61.  0.100 / 61.  0.100\\n  libavdevice    61.  0.100 / 61.  0.100\\n  libavfilter    10.  0.100 / 10.  0.100\\n  libswscale      8.  0.100 /  8.  0.100\\n  libswresample   5.  0.100 /  5.  0.100\\n  libpostproc    58.  0.100 / 58.  0.100\\nInput #0, image2, from 'image%4d.jpg':\\n  Duration: 00:00:33.33, start: 0.000000, bitrate: N/A\\n  Stream #0:0: Video: mjpeg (Baseline), yuvj420p(pc, bt470bg/unknown/unknown), 500x500 [SAR 100:100 DAR 1:1], 30 fps, 30 tbr, 30 tbn\\nFile 'plummer_sphere_pert.mp4' already exists. Overwrite? [y/N] Stream mapping:\\n  Stream #0:0 -> #0:0 (mjpeg (native) -> h264 (libx264))\\nPress [q] to stop, [?] for help\\n[libx264 @ 0000020dd9e132c0] using SAR=1/1\\n[libx264 @ 0000020dd9e132c0] using cpu capabilities: MMX2 SSE2Fast SSSE3 SSE4.2 AVX FMA3 BMI2 AVX2 AVX512\\n[libx264 @ 0000020dd9e132c0] profile High, level 3.0, 4:2:0, 8-bit\\n[libx264 @ 0000020dd9e132c0] 264 - core 164 r3186 585e019 - H.264/MPEG-4 AVC codec - Copyleft 2003-2024 - http://www.videolan.org/x264.html - options: cabac=1 ref=3 deblock=1:0:0 analyse=0x3:0x113 me=hex subme=7 psy=1 psy_rd=1.00:0.00 mixed_ref=1 me_range=16 chroma_me=1 trellis=1 8x8dct=1 cqm=0 deadzone=21,11 fast_pskip=1 chroma_qp_offset=-2 threads=16 lookahead_threads=2 sliced_threads=0 nr=0 decimate=1 interlaced=0 bluray_compat=0 constrained_intra=0 bframes=3 b_pyramid=2 b_adapt=1 b_bias=0 direct=1 weightb=1 open_gop=0 weightp=2 keyint=250 keyint_min=25 scenecut=40 intra_refresh=0 rc_lookahead=40 rc=crf mbtree=1 crf=23.0 qcomp=0.60 qpmin=0 qpmax=69 qpstep=4 ip_ratio=1.40 aq=1:1.00\\nOutput #0, mp4, to 'plummer_sphere_pert.mp4':\\n  Metadata:\\n    encoder         : Lavf61.0.100\\n  Stream #0:0: Video: h264 (avc1 / 0x31637661), yuvj420p(pc, bt470bg/unknown/unknown, progressive), 500x500 [SAR 100:100 DAR 1:1], q=2-31, 30 fps, 15360 tbn\\n      Metadata:\\n        encoder         : Lavc61.2.100 libx264\\n      Side data:\\n        cpb: bitrate max/min/avg: 0/0/0 buffer size: 0 vbv_delay: N/A\\nframe=  170 fps=0.0 q=29.0 size=       0KiB time=00:00:05.60 bitrate=   0.1kbits/s speed=  11x    \\nframe=  264 fps=256 q=29.0 size=       0KiB time=00:00:08.73 bitrate=   0.0kbits/s speed=8.47x    \\nframe=  347 fps=223 q=29.0 size=       0KiB time=00:00:11.50 bitrate=   0.0kbits/s speed= 7.4x    \\nframe=  425 fps=207 q=29.0 size=       0KiB time=00:00:14.10 bitrate=   0.0kbits/s speed=6.86x    \\nframe=  541 fps=210 q=29.0 size=     256KiB time=00:00:17.96 bitrate= 116.7kbits/s speed=6.98x    \\nframe=  665 fps=215 q=29.0 size=     256KiB time=00:00:22.10 bitrate=  94.9kbits/s speed=7.13x    \\nframe=  777 fps=216 q=29.0 size=     256KiB time=00:00:25.83 bitrate=  81.2kbits/s speed=7.17x    \\nframe=  895 fps=217 q=29.0 size=     256KiB time=00:00:29.76 bitrate=  70.5kbits/s speed=7.22x    \\n[out#0/mp4 @ 0000020dd9df2740] video:458KiB audio:0KiB subtitle:0KiB other streams:0KiB global headers:0KiB muxing overhead: 2.574581%\\nframe= 1000 fps=232 q=-1.0 Lsize=     470KiB time=00:00:33.26 bitrate= 115.8kbits/s speed=7.71x    \\n[libx264 @ 0000020dd9e132c0] frame I:4     Avg QP:14.63  size: 24587\\n[libx264 @ 0000020dd9e132c0] frame P:391   Avg QP:17.88  size:   821\\n[libx264 @ 0000020dd9e132c0] frame B:605   Avg QP:21.20  size:    81\\n[libx264 @ 0000020dd9e132c0] consecutive B-frames:  9.1% 22.8% 23.7% 44.4%\\n[libx264 @ 0000020dd9e132c0] mb I  I16..4: 34.9% 54.6% 10.5%\\n[libx264 @ 0000020dd9e132c0] mb P  I16..4:  0.0%  0.0%  0.0%  P16..4:  0.9%  0.7%  0.9%  0.0%  0.0%    skip:97.5%\\n[libx264 @ 0000020dd9e132c0] mb B  I16..4:  0.1%  0.1%  0.0%  B16..8:  2.0%  0.2%  0.1%  direct: 0.1%  skip:97.5%  L0:39.9% L1:57.2% BI: 2.9%\\n[libx264 @ 0000020dd9e132c0] 8x8 transform intra:56.8% inter:74.2%\\n[libx264 @ 0000020dd9e132c0] coded y,uvDC,uvAC intra: 25.0% 4.2% 3.7% inter: 0.6% 0.9% 0.7%\\n[libx264 @ 0000020dd9e132c0] i16 v,h,dc,p: 71% 18% 11%  0%\\n[libx264 @ 0000020dd9e132c0] i8 v,h,dc,ddl,ddr,vr,hd,vl,hu: 24% 15% 42%  7%  1%  1%  7%  1%  3%\\n[libx264 @ 0000020dd9e132c0] i4 v,h,dc,ddl,ddr,vr,hd,vl,hu: 42% 20% 11%  6%  3%  3%  8%  3%  4%\\n[libx264 @ 0000020dd9e132c0] i8c dc,h,v,p: 95%  3%  2%  0%\\n[libx264 @ 0000020dd9e132c0] Weighted P-Frames: Y:0.0% UV:0.0%\\n[libx264 @ 0000020dd9e132c0] ref P L0: 81.5% 10.1%  6.2%  2.2%\\n[libx264 @ 0000020dd9e132c0] ref B L0: 88.6% 10.3%  1.1%\\n[libx264 @ 0000020dd9e132c0] ref B L1: 97.6%  2.4%\\n[libx264 @ 0000020dd9e132c0] kb/s:112.48\\n\")"
      ]
     },
     "execution_count": 10,
     "metadata": {},
     "output_type": "execute_result"
    }
   ],
   "source": [
    "import matplotlib.animation as animation\n",
    "from matplotlib.animation import FFMpegWriter, PillowWriter\n",
    "import subprocess\n",
    "\n",
    "subprocess.run(\"cd frames & ffmpeg -framerate 30 -i image%4d.jpg plummer_sphere_pert.mp4\", shell=True, cwd=\"frames\", capture_output=True, text=True, input=\"y\")\n"
   ]
  },
  {
   "cell_type": "code",
   "execution_count": 11,
   "metadata": {},
   "outputs": [],
   "source": [
    "#be very carefull\n",
    "import os\n",
    "import glob\n",
    "\n",
    "files = glob.glob(\"frames/*.jpg\")        #this deletes all jpg files in a folder\n",
    "for f in files:\n",
    "    os.remove(f)"
   ]
  },
  {
   "cell_type": "code",
   "execution_count": 12,
   "metadata": {},
   "outputs": [
    {
     "data": {
      "text/plain": [
       "[<matplotlib.lines.Line2D at 0x28f5d400910>]"
      ]
     },
     "execution_count": 12,
     "metadata": {},
     "output_type": "execute_result"
    },
    {
     "data": {
      "image/png": "[encoded data removed]",
      "text/plain": [
       "<Figure size 640x480 with 1 Axes>"
      ]
     },
     "metadata": {},
     "output_type": "display_data"
    }
   ],
   "source": [
    "d = []\n",
    "r = np.sqrt(x**2 + y**2 + z**2)\n",
    "for i in range(frames):\n",
    "    test = []\n",
    "    for j in range(N):\n",
    "        if r[N*i + j] < 5:\n",
    "            test.append(r[N*i + j])\n",
    "        \n",
    "    d.append(np.mean(test))\n",
    "    \n",
    "plt.plot(d)"
   ]
  }
 ],
 "metadata": {
  "kernelspec": {
   "display_name": "Python 3",
   "language": "python",
   "name": "python3"
  },
  "language_info": {
   "codemirror_mode": {
    "name": "ipython",
    "version": 3
   },
   "file_extension": ".py",
   "mimetype": "text/x-python",
   "name": "python",
   "nbconvert_exporter": "python",
   "pygments_lexer": "ipython3",
   "version": "3.11.8"
  }
 },
 "nbformat": 4,
 "nbformat_minor": 2
}
